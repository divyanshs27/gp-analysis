{
 "cells": [
  {
   "cell_type": "markdown",
   "metadata": {},
   "source": [
    "#                                 GDP ANALYSIS - ASSIGNMENT"
   ]
  },
  {
   "cell_type": "markdown",
   "metadata": {},
   "source": [
    "**Import the Required Libraries & Supress any unwanted warnings**"
   ]
  },
  {
   "cell_type": "code",
   "execution_count": 1,
   "metadata": {},
   "outputs": [
    {
     "name": "stdout",
     "output_type": "stream",
     "text": [
      "D:\\try ml\\eda\\gdp analysis\n"
     ]
    }
   ],
   "source": [
    "import numpy as np\n",
    "import seaborn as sn\n",
    "import pandas as pd\n",
    "import scipy as sc\n",
    "import matplotlib as plt\n",
    "import glob,os\n",
    "\n",
    "# Supress Warnings\n",
    "\n",
    "import warnings\n",
    "warnings.filterwarnings('ignore')\n",
    "print(os.getcwd())"
   ]
  },
  {
   "cell_type": "markdown",
   "metadata": {},
   "source": [
    "# GDP Analysis - Part 1"
   ]
  },
  {
   "cell_type": "markdown",
   "metadata": {},
   "source": [
    "**Reading the CSV File and preparing the Dataframe to process the data for Analysis**"
   ]
  },
  {
   "cell_type": "code",
   "execution_count": 2,
   "metadata": {},
   "outputs": [
    {
     "data": {
      "text/html": [
       "<div>\n",
       "<style scoped>\n",
       "    .dataframe tbody tr th:only-of-type {\n",
       "        vertical-align: middle;\n",
       "    }\n",
       "\n",
       "    .dataframe tbody tr th {\n",
       "        vertical-align: top;\n",
       "    }\n",
       "\n",
       "    .dataframe thead th {\n",
       "        text-align: right;\n",
       "    }\n",
       "</style>\n",
       "<table border=\"1\" class=\"dataframe\">\n",
       "  <thead>\n",
       "    <tr style=\"text-align: right;\">\n",
       "      <th></th>\n",
       "      <th>Items  Description</th>\n",
       "      <th>Duration</th>\n",
       "      <th>Andhra Pradesh</th>\n",
       "      <th>Arunachal Pradesh</th>\n",
       "      <th>Assam</th>\n",
       "      <th>Bihar</th>\n",
       "      <th>Chhattisgarh</th>\n",
       "      <th>Goa</th>\n",
       "      <th>Gujarat</th>\n",
       "      <th>Haryana</th>\n",
       "      <th>...</th>\n",
       "      <th>Telangana</th>\n",
       "      <th>Tripura</th>\n",
       "      <th>Uttar Pradesh</th>\n",
       "      <th>Uttarakhand</th>\n",
       "      <th>West Bengal1</th>\n",
       "      <th>Andaman &amp; Nicobar Islands</th>\n",
       "      <th>Chandigarh</th>\n",
       "      <th>Delhi</th>\n",
       "      <th>Puducherry</th>\n",
       "      <th>All_India GDP</th>\n",
       "    </tr>\n",
       "  </thead>\n",
       "  <tbody>\n",
       "    <tr>\n",
       "      <th>0</th>\n",
       "      <td>GSDP - CURRENT PRICES (` in Crore)</td>\n",
       "      <td>2011-12</td>\n",
       "      <td>379402.0</td>\n",
       "      <td>11063.0</td>\n",
       "      <td>143175.0</td>\n",
       "      <td>247144.0</td>\n",
       "      <td>158074.0</td>\n",
       "      <td>42367.0</td>\n",
       "      <td>615606.0</td>\n",
       "      <td>297539.0</td>\n",
       "      <td>...</td>\n",
       "      <td>359433.0</td>\n",
       "      <td>19208.0</td>\n",
       "      <td>724049.0</td>\n",
       "      <td>115523.0</td>\n",
       "      <td>NaN</td>\n",
       "      <td>3979.0</td>\n",
       "      <td>18768.0</td>\n",
       "      <td>343767.0</td>\n",
       "      <td>16818.0</td>\n",
       "      <td>8736039.0</td>\n",
       "    </tr>\n",
       "    <tr>\n",
       "      <th>1</th>\n",
       "      <td>GSDP - CURRENT PRICES (` in Crore)</td>\n",
       "      <td>2012-13</td>\n",
       "      <td>411404.0</td>\n",
       "      <td>12547.0</td>\n",
       "      <td>156864.0</td>\n",
       "      <td>282368.0</td>\n",
       "      <td>177511.0</td>\n",
       "      <td>38120.0</td>\n",
       "      <td>724495.0</td>\n",
       "      <td>347032.0</td>\n",
       "      <td>...</td>\n",
       "      <td>401493.0</td>\n",
       "      <td>21663.0</td>\n",
       "      <td>822903.0</td>\n",
       "      <td>131835.0</td>\n",
       "      <td>NaN</td>\n",
       "      <td>4421.0</td>\n",
       "      <td>21609.0</td>\n",
       "      <td>391238.0</td>\n",
       "      <td>18875.0</td>\n",
       "      <td>9946636.0</td>\n",
       "    </tr>\n",
       "    <tr>\n",
       "      <th>2</th>\n",
       "      <td>GSDP - CURRENT PRICES (` in Crore)</td>\n",
       "      <td>2013-14</td>\n",
       "      <td>464272.0</td>\n",
       "      <td>14602.0</td>\n",
       "      <td>177745.0</td>\n",
       "      <td>317101.0</td>\n",
       "      <td>206690.0</td>\n",
       "      <td>35921.0</td>\n",
       "      <td>807623.0</td>\n",
       "      <td>400662.0</td>\n",
       "      <td>...</td>\n",
       "      <td>452186.0</td>\n",
       "      <td>25593.0</td>\n",
       "      <td>944146.0</td>\n",
       "      <td>149817.0</td>\n",
       "      <td>NaN</td>\n",
       "      <td>5159.0</td>\n",
       "      <td>24787.0</td>\n",
       "      <td>443783.0</td>\n",
       "      <td>21870.0</td>\n",
       "      <td>11236635.0</td>\n",
       "    </tr>\n",
       "    <tr>\n",
       "      <th>3</th>\n",
       "      <td>GSDP - CURRENT PRICES (` in Crore)</td>\n",
       "      <td>2014-15</td>\n",
       "      <td>526468.0</td>\n",
       "      <td>16761.0</td>\n",
       "      <td>198098.0</td>\n",
       "      <td>373920.0</td>\n",
       "      <td>234982.0</td>\n",
       "      <td>40633.0</td>\n",
       "      <td>895027.0</td>\n",
       "      <td>437462.0</td>\n",
       "      <td>...</td>\n",
       "      <td>511178.0</td>\n",
       "      <td>29667.0</td>\n",
       "      <td>1043371.0</td>\n",
       "      <td>161985.0</td>\n",
       "      <td>NaN</td>\n",
       "      <td>5721.0</td>\n",
       "      <td>27844.0</td>\n",
       "      <td>492424.0</td>\n",
       "      <td>24089.0</td>\n",
       "      <td>12433749.0</td>\n",
       "    </tr>\n",
       "    <tr>\n",
       "      <th>4</th>\n",
       "      <td>GSDP - CURRENT PRICES (` in Crore)</td>\n",
       "      <td>2015-16</td>\n",
       "      <td>609934.0</td>\n",
       "      <td>18784.0</td>\n",
       "      <td>224234.0</td>\n",
       "      <td>413503.0</td>\n",
       "      <td>260776.0</td>\n",
       "      <td>45002.0</td>\n",
       "      <td>994316.0</td>\n",
       "      <td>485184.0</td>\n",
       "      <td>...</td>\n",
       "      <td>575631.0</td>\n",
       "      <td>NaN</td>\n",
       "      <td>1153795.0</td>\n",
       "      <td>184091.0</td>\n",
       "      <td>NaN</td>\n",
       "      <td>NaN</td>\n",
       "      <td>30304.0</td>\n",
       "      <td>551963.0</td>\n",
       "      <td>26533.0</td>\n",
       "      <td>13675331.0</td>\n",
       "    </tr>\n",
       "  </tbody>\n",
       "</table>\n",
       "<p>5 rows × 36 columns</p>\n",
       "</div>"
      ],
      "text/plain": [
       "                   Items  Description Duration  Andhra Pradesh   \\\n",
       "0  GSDP - CURRENT PRICES (` in Crore)  2011-12         379402.0   \n",
       "1  GSDP - CURRENT PRICES (` in Crore)  2012-13         411404.0   \n",
       "2  GSDP - CURRENT PRICES (` in Crore)  2013-14         464272.0   \n",
       "3  GSDP - CURRENT PRICES (` in Crore)  2014-15         526468.0   \n",
       "4  GSDP - CURRENT PRICES (` in Crore)  2015-16         609934.0   \n",
       "\n",
       "   Arunachal Pradesh     Assam     Bihar  Chhattisgarh      Goa   Gujarat  \\\n",
       "0            11063.0  143175.0  247144.0      158074.0  42367.0  615606.0   \n",
       "1            12547.0  156864.0  282368.0      177511.0  38120.0  724495.0   \n",
       "2            14602.0  177745.0  317101.0      206690.0  35921.0  807623.0   \n",
       "3            16761.0  198098.0  373920.0      234982.0  40633.0  895027.0   \n",
       "4            18784.0  224234.0  413503.0      260776.0  45002.0  994316.0   \n",
       "\n",
       "    Haryana  ...  Telangana  Tripura  Uttar Pradesh  Uttarakhand  \\\n",
       "0  297539.0  ...   359433.0  19208.0       724049.0     115523.0   \n",
       "1  347032.0  ...   401493.0  21663.0       822903.0     131835.0   \n",
       "2  400662.0  ...   452186.0  25593.0       944146.0     149817.0   \n",
       "3  437462.0  ...   511178.0  29667.0      1043371.0     161985.0   \n",
       "4  485184.0  ...   575631.0      NaN      1153795.0     184091.0   \n",
       "\n",
       "   West Bengal1  Andaman & Nicobar Islands  Chandigarh     Delhi  Puducherry  \\\n",
       "0           NaN                     3979.0     18768.0  343767.0     16818.0   \n",
       "1           NaN                     4421.0     21609.0  391238.0     18875.0   \n",
       "2           NaN                     5159.0     24787.0  443783.0     21870.0   \n",
       "3           NaN                     5721.0     27844.0  492424.0     24089.0   \n",
       "4           NaN                        NaN     30304.0  551963.0     26533.0   \n",
       "\n",
       "   All_India GDP  \n",
       "0      8736039.0  \n",
       "1      9946636.0  \n",
       "2     11236635.0  \n",
       "3     12433749.0  \n",
       "4     13675331.0  \n",
       "\n",
       "[5 rows x 36 columns]"
      ]
     },
     "execution_count": 2,
     "metadata": {},
     "output_type": "execute_result"
    }
   ],
   "source": [
    "# Reading the File for PartI-A analysis\n",
    "GDP = pd.read_csv(r\"D:\\try ml\\eda\\gdp analysis\\GDP Analysis Data File\\State-wise Gross Domestic Product (GDP) at Current Price on Yearly Basis.csv\")\n",
    "GDP.head()\n"
   ]
  },
  {
   "cell_type": "code",
   "execution_count": 3,
   "metadata": {},
   "outputs": [
    {
     "name": "stdout",
     "output_type": "stream",
     "text": [
      "<class 'pandas.core.frame.DataFrame'>\n",
      "RangeIndex: 9 entries, 0 to 8\n",
      "Data columns (total 36 columns):\n",
      " #   Column                     Non-Null Count  Dtype  \n",
      "---  ------                     --------------  -----  \n",
      " 0   Items  Description         9 non-null      object \n",
      " 1   Duration                   9 non-null      object \n",
      " 2   Andhra Pradesh             9 non-null      float64\n",
      " 3   Arunachal Pradesh          9 non-null      float64\n",
      " 4   Assam                      9 non-null      float64\n",
      " 5   Bihar                      9 non-null      float64\n",
      " 6   Chhattisgarh               9 non-null      float64\n",
      " 7   Goa                        9 non-null      float64\n",
      " 8   Gujarat                    9 non-null      float64\n",
      " 9   Haryana                    9 non-null      float64\n",
      " 10  Himachal Pradesh           7 non-null      float64\n",
      " 11  Jammu & Kashmir            9 non-null      float64\n",
      " 12  Jharkhand                  9 non-null      float64\n",
      " 13  Karnataka                  9 non-null      float64\n",
      " 14  Kerala                     9 non-null      float64\n",
      " 15  Madhya Pradesh             9 non-null      float64\n",
      " 16  Maharashtra                7 non-null      float64\n",
      " 17  Manipur                    7 non-null      float64\n",
      " 18  Meghalaya                  9 non-null      float64\n",
      " 19  Mizoram                    7 non-null      float64\n",
      " 20  Nagaland                   7 non-null      float64\n",
      " 21  Odisha                     9 non-null      float64\n",
      " 22  Punjab                     7 non-null      float64\n",
      " 23  Rajasthan                  7 non-null      float64\n",
      " 24  Sikkim                     9 non-null      float64\n",
      " 25  Tamil Nadu                 9 non-null      float64\n",
      " 26  Telangana                  9 non-null      float64\n",
      " 27  Tripura                    7 non-null      float64\n",
      " 28  Uttar Pradesh              9 non-null      float64\n",
      " 29  Uttarakhand                9 non-null      float64\n",
      " 30  West Bengal1               0 non-null      float64\n",
      " 31  Andaman & Nicobar Islands  7 non-null      float64\n",
      " 32  Chandigarh                 9 non-null      float64\n",
      " 33  Delhi                      9 non-null      float64\n",
      " 34  Puducherry                 9 non-null      float64\n",
      " 35  All_India GDP              9 non-null      float64\n",
      "dtypes: float64(34), object(2)\n",
      "memory usage: 2.7+ KB\n"
     ]
    }
   ],
   "source": [
    "GDP.info()"
   ]
  },
  {
   "cell_type": "code",
   "execution_count": 4,
   "metadata": {},
   "outputs": [],
   "source": [
    "#Dropping the rows: '(% Growth over the previous year)' and 'GSDP - CURRENT PRICES (` i\n",
    "#Dropping Column = \"West Bengal1\" as it only haven Crore)' for the year 2016-17\n",
    "GDP = GDP[GDP.Duration != '2016-17']"
   ]
  },
  {
   "cell_type": "code",
   "execution_count": 5,
   "metadata": {},
   "outputs": [
    {
     "data": {
      "text/html": [
       "<div>\n",
       "<style scoped>\n",
       "    .dataframe tbody tr th:only-of-type {\n",
       "        vertical-align: middle;\n",
       "    }\n",
       "\n",
       "    .dataframe tbody tr th {\n",
       "        vertical-align: top;\n",
       "    }\n",
       "\n",
       "    .dataframe thead th {\n",
       "        text-align: right;\n",
       "    }\n",
       "</style>\n",
       "<table border=\"1\" class=\"dataframe\">\n",
       "  <thead>\n",
       "    <tr style=\"text-align: right;\">\n",
       "      <th></th>\n",
       "      <th>Items  Description</th>\n",
       "      <th>Duration</th>\n",
       "      <th>Andhra Pradesh</th>\n",
       "      <th>Arunachal Pradesh</th>\n",
       "      <th>Assam</th>\n",
       "      <th>Bihar</th>\n",
       "      <th>Chhattisgarh</th>\n",
       "      <th>Goa</th>\n",
       "      <th>Gujarat</th>\n",
       "      <th>Haryana</th>\n",
       "      <th>...</th>\n",
       "      <th>Sikkim</th>\n",
       "      <th>Tamil Nadu</th>\n",
       "      <th>Telangana</th>\n",
       "      <th>Tripura</th>\n",
       "      <th>Uttar Pradesh</th>\n",
       "      <th>Uttarakhand</th>\n",
       "      <th>Andaman &amp; Nicobar Islands</th>\n",
       "      <th>Chandigarh</th>\n",
       "      <th>Delhi</th>\n",
       "      <th>Puducherry</th>\n",
       "    </tr>\n",
       "  </thead>\n",
       "  <tbody>\n",
       "    <tr>\n",
       "      <th>0</th>\n",
       "      <td>GSDP - CURRENT PRICES (` in Crore)</td>\n",
       "      <td>2011-12</td>\n",
       "      <td>379402.0</td>\n",
       "      <td>11063.0</td>\n",
       "      <td>143175.0</td>\n",
       "      <td>247144.0</td>\n",
       "      <td>158074.0</td>\n",
       "      <td>42367.0</td>\n",
       "      <td>615606.0</td>\n",
       "      <td>297539.0</td>\n",
       "      <td>...</td>\n",
       "      <td>11165.0</td>\n",
       "      <td>751485.0</td>\n",
       "      <td>359433.0</td>\n",
       "      <td>19208.0</td>\n",
       "      <td>724049.0</td>\n",
       "      <td>115523.0</td>\n",
       "      <td>3979.0</td>\n",
       "      <td>18768.0</td>\n",
       "      <td>343767.0</td>\n",
       "      <td>16818.0</td>\n",
       "    </tr>\n",
       "    <tr>\n",
       "      <th>1</th>\n",
       "      <td>GSDP - CURRENT PRICES (` in Crore)</td>\n",
       "      <td>2012-13</td>\n",
       "      <td>411404.0</td>\n",
       "      <td>12547.0</td>\n",
       "      <td>156864.0</td>\n",
       "      <td>282368.0</td>\n",
       "      <td>177511.0</td>\n",
       "      <td>38120.0</td>\n",
       "      <td>724495.0</td>\n",
       "      <td>347032.0</td>\n",
       "      <td>...</td>\n",
       "      <td>12338.0</td>\n",
       "      <td>855481.0</td>\n",
       "      <td>401493.0</td>\n",
       "      <td>21663.0</td>\n",
       "      <td>822903.0</td>\n",
       "      <td>131835.0</td>\n",
       "      <td>4421.0</td>\n",
       "      <td>21609.0</td>\n",
       "      <td>391238.0</td>\n",
       "      <td>18875.0</td>\n",
       "    </tr>\n",
       "    <tr>\n",
       "      <th>2</th>\n",
       "      <td>GSDP - CURRENT PRICES (` in Crore)</td>\n",
       "      <td>2013-14</td>\n",
       "      <td>464272.0</td>\n",
       "      <td>14602.0</td>\n",
       "      <td>177745.0</td>\n",
       "      <td>317101.0</td>\n",
       "      <td>206690.0</td>\n",
       "      <td>35921.0</td>\n",
       "      <td>807623.0</td>\n",
       "      <td>400662.0</td>\n",
       "      <td>...</td>\n",
       "      <td>13862.0</td>\n",
       "      <td>971090.0</td>\n",
       "      <td>452186.0</td>\n",
       "      <td>25593.0</td>\n",
       "      <td>944146.0</td>\n",
       "      <td>149817.0</td>\n",
       "      <td>5159.0</td>\n",
       "      <td>24787.0</td>\n",
       "      <td>443783.0</td>\n",
       "      <td>21870.0</td>\n",
       "    </tr>\n",
       "    <tr>\n",
       "      <th>3</th>\n",
       "      <td>GSDP - CURRENT PRICES (` in Crore)</td>\n",
       "      <td>2014-15</td>\n",
       "      <td>526468.0</td>\n",
       "      <td>16761.0</td>\n",
       "      <td>198098.0</td>\n",
       "      <td>373920.0</td>\n",
       "      <td>234982.0</td>\n",
       "      <td>40633.0</td>\n",
       "      <td>895027.0</td>\n",
       "      <td>437462.0</td>\n",
       "      <td>...</td>\n",
       "      <td>15209.0</td>\n",
       "      <td>1092564.0</td>\n",
       "      <td>511178.0</td>\n",
       "      <td>29667.0</td>\n",
       "      <td>1043371.0</td>\n",
       "      <td>161985.0</td>\n",
       "      <td>5721.0</td>\n",
       "      <td>27844.0</td>\n",
       "      <td>492424.0</td>\n",
       "      <td>24089.0</td>\n",
       "    </tr>\n",
       "    <tr>\n",
       "      <th>4</th>\n",
       "      <td>GSDP - CURRENT PRICES (` in Crore)</td>\n",
       "      <td>2015-16</td>\n",
       "      <td>609934.0</td>\n",
       "      <td>18784.0</td>\n",
       "      <td>224234.0</td>\n",
       "      <td>413503.0</td>\n",
       "      <td>260776.0</td>\n",
       "      <td>45002.0</td>\n",
       "      <td>994316.0</td>\n",
       "      <td>485184.0</td>\n",
       "      <td>...</td>\n",
       "      <td>16637.0</td>\n",
       "      <td>1212668.0</td>\n",
       "      <td>575631.0</td>\n",
       "      <td>NaN</td>\n",
       "      <td>1153795.0</td>\n",
       "      <td>184091.0</td>\n",
       "      <td>NaN</td>\n",
       "      <td>30304.0</td>\n",
       "      <td>551963.0</td>\n",
       "      <td>26533.0</td>\n",
       "    </tr>\n",
       "  </tbody>\n",
       "</table>\n",
       "<p>5 rows × 34 columns</p>\n",
       "</div>"
      ],
      "text/plain": [
       "                   Items  Description Duration  Andhra Pradesh   \\\n",
       "0  GSDP - CURRENT PRICES (` in Crore)  2011-12         379402.0   \n",
       "1  GSDP - CURRENT PRICES (` in Crore)  2012-13         411404.0   \n",
       "2  GSDP - CURRENT PRICES (` in Crore)  2013-14         464272.0   \n",
       "3  GSDP - CURRENT PRICES (` in Crore)  2014-15         526468.0   \n",
       "4  GSDP - CURRENT PRICES (` in Crore)  2015-16         609934.0   \n",
       "\n",
       "   Arunachal Pradesh     Assam     Bihar  Chhattisgarh      Goa   Gujarat  \\\n",
       "0            11063.0  143175.0  247144.0      158074.0  42367.0  615606.0   \n",
       "1            12547.0  156864.0  282368.0      177511.0  38120.0  724495.0   \n",
       "2            14602.0  177745.0  317101.0      206690.0  35921.0  807623.0   \n",
       "3            16761.0  198098.0  373920.0      234982.0  40633.0  895027.0   \n",
       "4            18784.0  224234.0  413503.0      260776.0  45002.0  994316.0   \n",
       "\n",
       "    Haryana  ...   Sikkim  Tamil Nadu  Telangana  Tripura  Uttar Pradesh  \\\n",
       "0  297539.0  ...  11165.0    751485.0   359433.0  19208.0       724049.0   \n",
       "1  347032.0  ...  12338.0    855481.0   401493.0  21663.0       822903.0   \n",
       "2  400662.0  ...  13862.0    971090.0   452186.0  25593.0       944146.0   \n",
       "3  437462.0  ...  15209.0   1092564.0   511178.0  29667.0      1043371.0   \n",
       "4  485184.0  ...  16637.0   1212668.0   575631.0      NaN      1153795.0   \n",
       "\n",
       "   Uttarakhand  Andaman & Nicobar Islands  Chandigarh     Delhi  Puducherry  \n",
       "0     115523.0                     3979.0     18768.0  343767.0     16818.0  \n",
       "1     131835.0                     4421.0     21609.0  391238.0     18875.0  \n",
       "2     149817.0                     5159.0     24787.0  443783.0     21870.0  \n",
       "3     161985.0                     5721.0     27844.0  492424.0     24089.0  \n",
       "4     184091.0                        NaN     30304.0  551963.0     26533.0  \n",
       "\n",
       "[5 rows x 34 columns]"
      ]
     },
     "execution_count": 5,
     "metadata": {},
     "output_type": "execute_result"
    }
   ],
   "source": [
    "#Dropping Column = \"West Bengal1\" as it only have NA values and \"All_India GDP\" as it's not required in this analysis\n",
    "GDP = GDP.drop(['West Bengal1','All_India GDP'],axis=1)\n",
    "\n",
    "GDP.head()"
   ]
  },
  {
   "cell_type": "code",
   "execution_count": 6,
   "metadata": {},
   "outputs": [
    {
     "data": {
      "text/html": [
       "<div>\n",
       "<style scoped>\n",
       "    .dataframe tbody tr th:only-of-type {\n",
       "        vertical-align: middle;\n",
       "    }\n",
       "\n",
       "    .dataframe tbody tr th {\n",
       "        vertical-align: top;\n",
       "    }\n",
       "\n",
       "    .dataframe thead th {\n",
       "        text-align: right;\n",
       "    }\n",
       "</style>\n",
       "<table border=\"1\" class=\"dataframe\">\n",
       "  <thead>\n",
       "    <tr style=\"text-align: right;\">\n",
       "      <th>Duration</th>\n",
       "      <th>2012-13</th>\n",
       "      <th>2013-14</th>\n",
       "      <th>2014-15</th>\n",
       "      <th>2015-16</th>\n",
       "    </tr>\n",
       "  </thead>\n",
       "  <tbody>\n",
       "    <tr>\n",
       "      <th>Andhra Pradesh</th>\n",
       "      <td>8.43</td>\n",
       "      <td>12.85</td>\n",
       "      <td>13.40</td>\n",
       "      <td>15.85</td>\n",
       "    </tr>\n",
       "    <tr>\n",
       "      <th>Arunachal Pradesh</th>\n",
       "      <td>13.41</td>\n",
       "      <td>16.38</td>\n",
       "      <td>14.79</td>\n",
       "      <td>12.07</td>\n",
       "    </tr>\n",
       "    <tr>\n",
       "      <th>Assam</th>\n",
       "      <td>9.56</td>\n",
       "      <td>13.31</td>\n",
       "      <td>11.45</td>\n",
       "      <td>13.19</td>\n",
       "    </tr>\n",
       "    <tr>\n",
       "      <th>Bihar</th>\n",
       "      <td>14.25</td>\n",
       "      <td>12.30</td>\n",
       "      <td>17.92</td>\n",
       "      <td>10.59</td>\n",
       "    </tr>\n",
       "    <tr>\n",
       "      <th>Chhattisgarh</th>\n",
       "      <td>12.30</td>\n",
       "      <td>16.44</td>\n",
       "      <td>13.69</td>\n",
       "      <td>10.98</td>\n",
       "    </tr>\n",
       "  </tbody>\n",
       "</table>\n",
       "</div>"
      ],
      "text/plain": [
       "Duration           2012-13  2013-14  2014-15  2015-16\n",
       "Andhra Pradesh        8.43    12.85    13.40    15.85\n",
       "Arunachal Pradesh    13.41    16.38    14.79    12.07\n",
       "Assam                 9.56    13.31    11.45    13.19\n",
       "Bihar                14.25    12.30    17.92    10.59\n",
       "Chhattisgarh         12.30    16.44    13.69    10.98"
      ]
     },
     "execution_count": 6,
     "metadata": {},
     "output_type": "execute_result"
    }
   ],
   "source": [
    "#Filtering the (% Growth over previous year) rows for duration 2013-14, 2014-15 and 2015-16.\n",
    "GDP.rename(columns={'Items  Description':'Items'}, inplace = True)\n",
    "\n",
    "GDP_1A = GDP.loc[GDP.Items != 'GSDP - CURRENT PRICES (` in Crore)', :]\n",
    "\n",
    "#Dropping Column = \"Items Description\" as it's not required in this analysis\n",
    "GDP_1A.drop('Items',axis=1, inplace = True)\n",
    "\n",
    "# #Setting the Duration as the Index of the dataframe\n",
    "GDP_1A.set_index('Duration', inplace = True)\n",
    "\n",
    "# #Transposing the rows and columns\n",
    "GDP_1A = GDP_1A.transpose()\n",
    "\n",
    "GDP_1A.head()"
   ]
  },
  {
   "cell_type": "code",
   "execution_count": 7,
   "metadata": {},
   "outputs": [
    {
     "data": {
      "text/html": [
       "<div>\n",
       "<style scoped>\n",
       "    .dataframe tbody tr th:only-of-type {\n",
       "        vertical-align: middle;\n",
       "    }\n",
       "\n",
       "    .dataframe tbody tr th {\n",
       "        vertical-align: top;\n",
       "    }\n",
       "\n",
       "    .dataframe thead th {\n",
       "        text-align: right;\n",
       "    }\n",
       "</style>\n",
       "<table border=\"1\" class=\"dataframe\">\n",
       "  <thead>\n",
       "    <tr style=\"text-align: right;\">\n",
       "      <th>Duration</th>\n",
       "      <th>2012-13</th>\n",
       "      <th>2013-14</th>\n",
       "      <th>2014-15</th>\n",
       "      <th>2015-16</th>\n",
       "      <th>Average</th>\n",
       "    </tr>\n",
       "  </thead>\n",
       "  <tbody>\n",
       "    <tr>\n",
       "      <th>Andhra Pradesh</th>\n",
       "      <td>8.43</td>\n",
       "      <td>12.85</td>\n",
       "      <td>13.40</td>\n",
       "      <td>15.85</td>\n",
       "      <td>12.63</td>\n",
       "    </tr>\n",
       "    <tr>\n",
       "      <th>Arunachal Pradesh</th>\n",
       "      <td>13.41</td>\n",
       "      <td>16.38</td>\n",
       "      <td>14.79</td>\n",
       "      <td>12.07</td>\n",
       "      <td>14.16</td>\n",
       "    </tr>\n",
       "    <tr>\n",
       "      <th>Assam</th>\n",
       "      <td>9.56</td>\n",
       "      <td>13.31</td>\n",
       "      <td>11.45</td>\n",
       "      <td>13.19</td>\n",
       "      <td>11.88</td>\n",
       "    </tr>\n",
       "    <tr>\n",
       "      <th>Bihar</th>\n",
       "      <td>14.25</td>\n",
       "      <td>12.30</td>\n",
       "      <td>17.92</td>\n",
       "      <td>10.59</td>\n",
       "      <td>13.76</td>\n",
       "    </tr>\n",
       "    <tr>\n",
       "      <th>Chhattisgarh</th>\n",
       "      <td>12.30</td>\n",
       "      <td>16.44</td>\n",
       "      <td>13.69</td>\n",
       "      <td>10.98</td>\n",
       "      <td>13.35</td>\n",
       "    </tr>\n",
       "  </tbody>\n",
       "</table>\n",
       "</div>"
      ],
      "text/plain": [
       "Duration           2012-13  2013-14  2014-15  2015-16  Average\n",
       "Andhra Pradesh        8.43    12.85    13.40    15.85    12.63\n",
       "Arunachal Pradesh    13.41    16.38    14.79    12.07    14.16\n",
       "Assam                 9.56    13.31    11.45    13.19    11.88\n",
       "Bihar                14.25    12.30    17.92    10.59    13.76\n",
       "Chhattisgarh         12.30    16.44    13.69    10.98    13.35"
      ]
     },
     "execution_count": 7,
     "metadata": {},
     "output_type": "execute_result"
    }
   ],
   "source": [
    "#Calculating the mean of row \"(% Growth over previous year)\" for duration 2013-14, 2014-15 and 2015-16 and round value to 2\n",
    "GDP_1A['Average'] = round(GDP_1A.mean(axis=1),2)\n",
    "# Calculate the Median value of 2015-16 GSDP to find out the National Average amoung the states\n",
    "GDP_1A = GDP_1A.astype('float64')\n",
    "GDP_National_Avg = round(GDP_1A['2015-16'].median(axis=0),2)\n",
    "GDP_1A.head()"
   ]
  },
  {
   "cell_type": "markdown",
   "metadata": {},
   "source": [
    "# The National GSDP Average for 2015-2016 is 11%"
   ]
  },
  {
   "cell_type": "code",
   "execution_count": 8,
   "metadata": {},
   "outputs": [
    {
     "data": {
      "text/plain": [
       "11.09"
      ]
     },
     "execution_count": 8,
     "metadata": {},
     "output_type": "execute_result"
    }
   ],
   "source": [
    "GDP_National_Avg"
   ]
  },
  {
   "cell_type": "markdown",
   "metadata": {},
   "source": [
    "**GDP under National GDP for 2015-16**"
   ]
  },
  {
   "cell_type": "code",
   "execution_count": 9,
   "metadata": {},
   "outputs": [
    {
     "data": {
      "text/html": [
       "<div>\n",
       "<style scoped>\n",
       "    .dataframe tbody tr th:only-of-type {\n",
       "        vertical-align: middle;\n",
       "    }\n",
       "\n",
       "    .dataframe tbody tr th {\n",
       "        vertical-align: top;\n",
       "    }\n",
       "\n",
       "    .dataframe thead th {\n",
       "        text-align: right;\n",
       "    }\n",
       "</style>\n",
       "<table border=\"1\" class=\"dataframe\">\n",
       "  <thead>\n",
       "    <tr style=\"text-align: right;\">\n",
       "      <th>Duration</th>\n",
       "      <th>2012-13</th>\n",
       "      <th>2013-14</th>\n",
       "      <th>2014-15</th>\n",
       "      <th>2015-16</th>\n",
       "      <th>Average</th>\n",
       "    </tr>\n",
       "  </thead>\n",
       "  <tbody>\n",
       "    <tr>\n",
       "      <th>Odisha</th>\n",
       "      <td>13.34</td>\n",
       "      <td>12.95</td>\n",
       "      <td>10.37</td>\n",
       "      <td>6.19</td>\n",
       "      <td>10.71</td>\n",
       "    </tr>\n",
       "    <tr>\n",
       "      <th>Chandigarh</th>\n",
       "      <td>15.14</td>\n",
       "      <td>14.71</td>\n",
       "      <td>12.33</td>\n",
       "      <td>8.84</td>\n",
       "      <td>12.76</td>\n",
       "    </tr>\n",
       "    <tr>\n",
       "      <th>Sikkim</th>\n",
       "      <td>10.51</td>\n",
       "      <td>12.35</td>\n",
       "      <td>9.72</td>\n",
       "      <td>9.39</td>\n",
       "      <td>10.49</td>\n",
       "    </tr>\n",
       "    <tr>\n",
       "      <th>Meghalaya</th>\n",
       "      <td>9.81</td>\n",
       "      <td>4.87</td>\n",
       "      <td>6.41</td>\n",
       "      <td>9.58</td>\n",
       "      <td>7.67</td>\n",
       "    </tr>\n",
       "    <tr>\n",
       "      <th>Puducherry</th>\n",
       "      <td>12.23</td>\n",
       "      <td>15.87</td>\n",
       "      <td>10.14</td>\n",
       "      <td>10.15</td>\n",
       "      <td>12.10</td>\n",
       "    </tr>\n",
       "    <tr>\n",
       "      <th>Uttar Pradesh</th>\n",
       "      <td>13.65</td>\n",
       "      <td>14.73</td>\n",
       "      <td>10.51</td>\n",
       "      <td>10.58</td>\n",
       "      <td>12.37</td>\n",
       "    </tr>\n",
       "    <tr>\n",
       "      <th>Bihar</th>\n",
       "      <td>14.25</td>\n",
       "      <td>12.30</td>\n",
       "      <td>17.92</td>\n",
       "      <td>10.59</td>\n",
       "      <td>13.76</td>\n",
       "    </tr>\n",
       "    <tr>\n",
       "      <th>Goa</th>\n",
       "      <td>-10.02</td>\n",
       "      <td>-5.77</td>\n",
       "      <td>13.12</td>\n",
       "      <td>10.75</td>\n",
       "      <td>2.02</td>\n",
       "    </tr>\n",
       "    <tr>\n",
       "      <th>Haryana</th>\n",
       "      <td>16.63</td>\n",
       "      <td>15.45</td>\n",
       "      <td>9.18</td>\n",
       "      <td>10.91</td>\n",
       "      <td>13.04</td>\n",
       "    </tr>\n",
       "    <tr>\n",
       "      <th>Chhattisgarh</th>\n",
       "      <td>12.30</td>\n",
       "      <td>16.44</td>\n",
       "      <td>13.69</td>\n",
       "      <td>10.98</td>\n",
       "      <td>13.35</td>\n",
       "    </tr>\n",
       "    <tr>\n",
       "      <th>Tamil Nadu</th>\n",
       "      <td>13.84</td>\n",
       "      <td>13.51</td>\n",
       "      <td>12.51</td>\n",
       "      <td>10.99</td>\n",
       "      <td>12.71</td>\n",
       "    </tr>\n",
       "  </tbody>\n",
       "</table>\n",
       "</div>"
      ],
      "text/plain": [
       "Duration       2012-13  2013-14  2014-15  2015-16  Average\n",
       "Odisha           13.34    12.95    10.37     6.19    10.71\n",
       "Chandigarh       15.14    14.71    12.33     8.84    12.76\n",
       "Sikkim           10.51    12.35     9.72     9.39    10.49\n",
       "Meghalaya         9.81     4.87     6.41     9.58     7.67\n",
       "Puducherry       12.23    15.87    10.14    10.15    12.10\n",
       "Uttar Pradesh    13.65    14.73    10.51    10.58    12.37\n",
       "Bihar            14.25    12.30    17.92    10.59    13.76\n",
       "Goa             -10.02    -5.77    13.12    10.75     2.02\n",
       "Haryana          16.63    15.45     9.18    10.91    13.04\n",
       "Chhattisgarh     12.30    16.44    13.69    10.98    13.35\n",
       "Tamil Nadu       13.84    13.51    12.51    10.99    12.71"
      ]
     },
     "execution_count": 9,
     "metadata": {},
     "output_type": "execute_result"
    }
   ],
   "source": [
    "GDP_National_Under = GDP_1A[GDP_1A['2015-16'] < GDP_National_Avg]\n",
    "GDP_National_Under = GDP_National_Under.sort_values('2015-16',ascending=True)\n",
    "GDP_National_Under"
   ]
  },
  {
   "cell_type": "markdown",
   "metadata": {},
   "source": [
    "**GDP Above National GDP for 2015-16**"
   ]
  },
  {
   "cell_type": "code",
   "execution_count": 10,
   "metadata": {},
   "outputs": [
    {
     "data": {
      "text/html": [
       "<div>\n",
       "<style scoped>\n",
       "    .dataframe tbody tr th:only-of-type {\n",
       "        vertical-align: middle;\n",
       "    }\n",
       "\n",
       "    .dataframe tbody tr th {\n",
       "        vertical-align: top;\n",
       "    }\n",
       "\n",
       "    .dataframe thead th {\n",
       "        text-align: right;\n",
       "    }\n",
       "</style>\n",
       "<table border=\"1\" class=\"dataframe\">\n",
       "  <thead>\n",
       "    <tr style=\"text-align: right;\">\n",
       "      <th>Duration</th>\n",
       "      <th>2012-13</th>\n",
       "      <th>2013-14</th>\n",
       "      <th>2014-15</th>\n",
       "      <th>2015-16</th>\n",
       "      <th>Average</th>\n",
       "    </tr>\n",
       "  </thead>\n",
       "  <tbody>\n",
       "    <tr>\n",
       "      <th>Karnataka</th>\n",
       "      <td>14.56</td>\n",
       "      <td>18.24</td>\n",
       "      <td>12.70</td>\n",
       "      <td>11.42</td>\n",
       "      <td>14.23</td>\n",
       "    </tr>\n",
       "    <tr>\n",
       "      <th>Jharkhand</th>\n",
       "      <td>15.77</td>\n",
       "      <td>7.92</td>\n",
       "      <td>15.14</td>\n",
       "      <td>11.44</td>\n",
       "      <td>12.57</td>\n",
       "    </tr>\n",
       "    <tr>\n",
       "      <th>Kerala</th>\n",
       "      <td>13.26</td>\n",
       "      <td>12.79</td>\n",
       "      <td>13.11</td>\n",
       "      <td>11.85</td>\n",
       "      <td>12.75</td>\n",
       "    </tr>\n",
       "    <tr>\n",
       "      <th>Arunachal Pradesh</th>\n",
       "      <td>13.41</td>\n",
       "      <td>16.38</td>\n",
       "      <td>14.79</td>\n",
       "      <td>12.07</td>\n",
       "      <td>14.16</td>\n",
       "    </tr>\n",
       "    <tr>\n",
       "      <th>Delhi</th>\n",
       "      <td>13.81</td>\n",
       "      <td>13.43</td>\n",
       "      <td>10.96</td>\n",
       "      <td>12.09</td>\n",
       "      <td>12.57</td>\n",
       "    </tr>\n",
       "    <tr>\n",
       "      <th>Telangana</th>\n",
       "      <td>11.70</td>\n",
       "      <td>12.63</td>\n",
       "      <td>13.05</td>\n",
       "      <td>12.61</td>\n",
       "      <td>12.50</td>\n",
       "    </tr>\n",
       "    <tr>\n",
       "      <th>Madhya Pradesh</th>\n",
       "      <td>20.71</td>\n",
       "      <td>14.91</td>\n",
       "      <td>10.11</td>\n",
       "      <td>12.86</td>\n",
       "      <td>14.65</td>\n",
       "    </tr>\n",
       "    <tr>\n",
       "      <th>Assam</th>\n",
       "      <td>9.56</td>\n",
       "      <td>13.31</td>\n",
       "      <td>11.45</td>\n",
       "      <td>13.19</td>\n",
       "      <td>11.88</td>\n",
       "    </tr>\n",
       "    <tr>\n",
       "      <th>Uttarakhand</th>\n",
       "      <td>14.12</td>\n",
       "      <td>13.64</td>\n",
       "      <td>8.12</td>\n",
       "      <td>13.65</td>\n",
       "      <td>12.38</td>\n",
       "    </tr>\n",
       "    <tr>\n",
       "      <th>Andhra Pradesh</th>\n",
       "      <td>8.43</td>\n",
       "      <td>12.85</td>\n",
       "      <td>13.40</td>\n",
       "      <td>15.85</td>\n",
       "      <td>12.63</td>\n",
       "    </tr>\n",
       "    <tr>\n",
       "      <th>Jammu &amp; Kashmir</th>\n",
       "      <td>11.31</td>\n",
       "      <td>10.09</td>\n",
       "      <td>4.70</td>\n",
       "      <td>17.91</td>\n",
       "      <td>11.00</td>\n",
       "    </tr>\n",
       "  </tbody>\n",
       "</table>\n",
       "</div>"
      ],
      "text/plain": [
       "Duration           2012-13  2013-14  2014-15  2015-16  Average\n",
       "Karnataka            14.56    18.24    12.70    11.42    14.23\n",
       "Jharkhand            15.77     7.92    15.14    11.44    12.57\n",
       "Kerala               13.26    12.79    13.11    11.85    12.75\n",
       "Arunachal Pradesh    13.41    16.38    14.79    12.07    14.16\n",
       "Delhi                13.81    13.43    10.96    12.09    12.57\n",
       "Telangana            11.70    12.63    13.05    12.61    12.50\n",
       "Madhya Pradesh       20.71    14.91    10.11    12.86    14.65\n",
       "Assam                 9.56    13.31    11.45    13.19    11.88\n",
       "Uttarakhand          14.12    13.64     8.12    13.65    12.38\n",
       "Andhra Pradesh        8.43    12.85    13.40    15.85    12.63\n",
       "Jammu & Kashmir      11.31    10.09     4.70    17.91    11.00"
      ]
     },
     "execution_count": 10,
     "metadata": {},
     "output_type": "execute_result"
    }
   ],
   "source": [
    "GDP_National_Above = GDP_1A[GDP_1A['2015-16'] > GDP_National_Avg]\n",
    "GDP_National_Above = GDP_National_Above.sort_values('2015-16',ascending=True)\n",
    "GDP_National_Above"
   ]
  },
  {
   "cell_type": "markdown",
   "metadata": {},
   "source": [
    "**The average growth of states for the duration 2013-14, 2014-15 and 2015-16.**"
   ]
  },
  {
   "cell_type": "code",
   "execution_count": 11,
   "metadata": {},
   "outputs": [
    {
     "data": {
      "text/plain": [
       "<matplotlib.axes._subplots.AxesSubplot at 0x1e8aa73eb48>"
      ]
     },
     "execution_count": 11,
     "metadata": {},
     "output_type": "execute_result"
    },
    {
     "data": {
      "image/png": "[encoded data removed]",
      "text/plain": [
       "<Figure size 1440x504 with 1 Axes>"
      ]
     },
     "metadata": {
      "needs_background": "light"
     },
     "output_type": "display_data"
    },
    {
     "data": {
      "image/png": "[encoded data removed]",
      "text/plain": [
       "<Figure size 1440x504 with 1 Axes>"
      ]
     },
     "metadata": {
      "needs_background": "light"
     },
     "output_type": "display_data"
    }
   ],
   "source": [
    "#Sorting the datafrane by Column: \"Average\"\n",
    "GDP_1A.sort_values(by='Average', axis=0, ascending=True, inplace=True)\n",
    "\n",
    "#Sorting the datafrane by Column: \"2015-16\"\n",
    "GDP_2015_16_States = GDP_1A.sort_values(by='2015-16', axis=0, ascending=False)\n",
    "\n",
    "#Plotting the bar graph for States(x-axis) vs. Average (y-axis)\n",
    "GDP_1A.plot(kind = 'bar', y = \"Average\", figsize=(20, 7), title = 'The average growth of states for the duration 2013-14, 2014-15 and 2015-16')\n",
    "\n",
    "#Plotting the bar graph for complete Data Frame\n",
    "GDP_2015_16_States.plot(kind = 'bar', y = \"2015-16\", figsize=(20, 7), title = 'The average growth of states for the duration 2015-16' )"
   ]
  },
  {
   "cell_type": "markdown",
   "metadata": {},
   "source": [
    "# The top 5 and the bottom 5 states based on total GDP for the year 2015-16.\n"
   ]
  },
  {
   "cell_type": "code",
   "execution_count": 12,
   "metadata": {},
   "outputs": [],
   "source": [
    "GDP_Top_5 = GDP_1A.sort_values(\"2015-16\", ascending = False).head(5)\n",
    "GDP_Bottom_5 = GDP_1A.sort_values(\"2015-16\", ascending = False)\n",
    "GDP_Bottom_5.dropna(subset=[\"2015-16\"],inplace=True)\n",
    "GDP_Bottom_5 = GDP_Bottom_5.tail(5)\n",
    "# GDP_Bottom_5"
   ]
  },
  {
   "cell_type": "code",
   "execution_count": 13,
   "metadata": {},
   "outputs": [
    {
     "data": {
      "text/plain": [
       "<matplotlib.axes._subplots.AxesSubplot at 0x1e8a8304a08>"
      ]
     },
     "execution_count": 13,
     "metadata": {},
     "output_type": "execute_result"
    },
    {
     "data": {
      "image/png": "[encoded data removed]",
      "text/plain": [
       "<Figure size 432x288 with 1 Axes>"
      ]
     },
     "metadata": {
      "needs_background": "light"
     },
     "output_type": "display_data"
    },
    {
     "data": {
      "image/png": "[encoded data removed]",
      "text/plain": [
       "<Figure size 432x288 with 1 Axes>"
      ]
     },
     "metadata": {
      "needs_background": "light"
     },
     "output_type": "display_data"
    }
   ],
   "source": [
    "GDP_Top_5.plot(kind = 'bar', y = \"2015-16\", title = 'Top 5 GDP for Year 2015-16')\n",
    "GDP_Bottom_5.plot(kind = 'bar', y = \"2015-16\", title = 'Bottom 5 GDP for Year 2015-16')"
   ]
  },
  {
   "cell_type": "markdown",
   "metadata": {},
   "source": [
    "# GDP Analysis - PART 2"
   ]
  },
  {
   "cell_type": "markdown",
   "metadata": {},
   "source": [
    "# Path for Files from where all the State data will be fetched\n",
    "**Path need to be updated as and when required to run the below mentioned Analysis**"
   ]
  },
  {
   "cell_type": "code",
   "execution_count": 14,
   "metadata": {},
   "outputs": [],
   "source": [
    "path = 'Indian States'\n",
    "all_files = glob.glob(path + \"/*.csv\")\n",
    "listoffiles = []"
   ]
  },
  {
   "cell_type": "markdown",
   "metadata": {},
   "source": [
    "# Merging of all the States CSV files in one Dataframe for Analysis"
   ]
  },
  {
   "cell_type": "code",
   "execution_count": 15,
   "metadata": {},
   "outputs": [],
   "source": [
    "for filename in all_files:\n",
    "    df = pd.read_csv(filename, index_col=None, header=0, encoding = 'unicode_escape')\n",
    "    df = df[['Item','2014-15']] # We need data only for 2014-15\n",
    "    df['Item'] = df['Item'].map(lambda x: x.strip('*'))\n",
    "    df = df.T\n",
    "    new_header = df.iloc[0]\n",
    "    df = df[1:]\n",
    "    df.columns = new_header\n",
    "    df['States'] = filename.split('\\\\')[-1].split('-')[1]\n",
    "    listoffiles.append(df)                    "
   ]
  },
  {
   "cell_type": "code",
   "execution_count": 16,
   "metadata": {},
   "outputs": [
    {
     "ename": "ValueError",
     "evalue": "No objects to concatenate",
     "output_type": "error",
     "traceback": [
      "\u001b[1;31m---------------------------------------------------------------------------\u001b[0m",
      "\u001b[1;31mValueError\u001b[0m                                Traceback (most recent call last)",
      "\u001b[1;32m<ipython-input-16-fedca1b723a6>\u001b[0m in \u001b[0;36m<module>\u001b[1;34m\u001b[0m\n\u001b[1;32m----> 1\u001b[1;33m \u001b[0mState_dataset\u001b[0m \u001b[1;33m=\u001b[0m \u001b[0mpd\u001b[0m\u001b[1;33m.\u001b[0m\u001b[0mconcat\u001b[0m\u001b[1;33m(\u001b[0m\u001b[0mlistoffiles\u001b[0m\u001b[1;33m,\u001b[0m \u001b[0maxis\u001b[0m\u001b[1;33m=\u001b[0m\u001b[1;36m0\u001b[0m\u001b[1;33m,\u001b[0m\u001b[0mignore_index\u001b[0m\u001b[1;33m=\u001b[0m\u001b[1;32mTrue\u001b[0m\u001b[1;33m)\u001b[0m\u001b[1;33m\u001b[0m\u001b[1;33m\u001b[0m\u001b[0m\n\u001b[0m",
      "\u001b[1;32mC:\\ProgramData\\Anaconda3\\lib\\site-packages\\pandas\\core\\reshape\\concat.py\u001b[0m in \u001b[0;36mconcat\u001b[1;34m(objs, axis, join, ignore_index, keys, levels, names, verify_integrity, sort, copy)\u001b[0m\n\u001b[0;32m    279\u001b[0m         \u001b[0mverify_integrity\u001b[0m\u001b[1;33m=\u001b[0m\u001b[0mverify_integrity\u001b[0m\u001b[1;33m,\u001b[0m\u001b[1;33m\u001b[0m\u001b[1;33m\u001b[0m\u001b[0m\n\u001b[0;32m    280\u001b[0m         \u001b[0mcopy\u001b[0m\u001b[1;33m=\u001b[0m\u001b[0mcopy\u001b[0m\u001b[1;33m,\u001b[0m\u001b[1;33m\u001b[0m\u001b[1;33m\u001b[0m\u001b[0m\n\u001b[1;32m--> 281\u001b[1;33m         \u001b[0msort\u001b[0m\u001b[1;33m=\u001b[0m\u001b[0msort\u001b[0m\u001b[1;33m,\u001b[0m\u001b[1;33m\u001b[0m\u001b[1;33m\u001b[0m\u001b[0m\n\u001b[0m\u001b[0;32m    282\u001b[0m     )\n\u001b[0;32m    283\u001b[0m \u001b[1;33m\u001b[0m\u001b[0m\n",
      "\u001b[1;32mC:\\ProgramData\\Anaconda3\\lib\\site-packages\\pandas\\core\\reshape\\concat.py\u001b[0m in \u001b[0;36m__init__\u001b[1;34m(self, objs, axis, join, keys, levels, names, ignore_index, verify_integrity, copy, sort)\u001b[0m\n\u001b[0;32m    327\u001b[0m \u001b[1;33m\u001b[0m\u001b[0m\n\u001b[0;32m    328\u001b[0m         \u001b[1;32mif\u001b[0m \u001b[0mlen\u001b[0m\u001b[1;33m(\u001b[0m\u001b[0mobjs\u001b[0m\u001b[1;33m)\u001b[0m \u001b[1;33m==\u001b[0m \u001b[1;36m0\u001b[0m\u001b[1;33m:\u001b[0m\u001b[1;33m\u001b[0m\u001b[1;33m\u001b[0m\u001b[0m\n\u001b[1;32m--> 329\u001b[1;33m             \u001b[1;32mraise\u001b[0m \u001b[0mValueError\u001b[0m\u001b[1;33m(\u001b[0m\u001b[1;34m\"No objects to concatenate\"\u001b[0m\u001b[1;33m)\u001b[0m\u001b[1;33m\u001b[0m\u001b[1;33m\u001b[0m\u001b[0m\n\u001b[0m\u001b[0;32m    330\u001b[0m \u001b[1;33m\u001b[0m\u001b[0m\n\u001b[0;32m    331\u001b[0m         \u001b[1;32mif\u001b[0m \u001b[0mkeys\u001b[0m \u001b[1;32mis\u001b[0m \u001b[1;32mNone\u001b[0m\u001b[1;33m:\u001b[0m\u001b[1;33m\u001b[0m\u001b[1;33m\u001b[0m\u001b[0m\n",
      "\u001b[1;31mValueError\u001b[0m: No objects to concatenate"
     ]
    }
   ],
   "source": [
    "State_dataset = pd.concat(listoffiles, axis=0,ignore_index=True)\n"
   ]
  },
  {
   "cell_type": "code",
   "execution_count": null,
   "metadata": {},
   "outputs": [],
   "source": []
  },
  {
   "cell_type": "code",
   "execution_count": null,
   "metadata": {},
   "outputs": [],
   "source": [
    "# Drop UT from dataset as these are not states and not required in this Analysis\n",
    "State_dataset = State_dataset[State_dataset.States != 'Delhi']\n",
    "State_dataset = State_dataset[State_dataset.States != 'Chandigarh']\n",
    "State_dataset = State_dataset[State_dataset.States != 'Puducherry']\n",
    "\n",
    "State_dataset.info()"
   ]
  },
  {
   "cell_type": "markdown",
   "metadata": {},
   "source": [
    "**Set the Index to State & also uniform all the values in the dataframe to Float Type**"
   ]
  },
  {
   "cell_type": "code",
   "execution_count": null,
   "metadata": {},
   "outputs": [],
   "source": [
    "State_dataset.set_index('States', inplace = True) #Setting the Index to the States\n",
    "State_dataset = State_dataset.astype('float64') #converting the values to Float to analyze and perform mathematical operations\n",
    "State_dataset.info()"
   ]
  },
  {
   "cell_type": "markdown",
   "metadata": {},
   "source": [
    "**Prepare the list for TOP5 & Bottom 5 Per Capita**"
   ]
  },
  {
   "cell_type": "code",
   "execution_count": null,
   "metadata": {},
   "outputs": [],
   "source": [
    "GDP_per_capita = State_dataset.sort_values(\"Per Capita GSDP (Rs.)\", ascending=False)\n",
    "GDP_per_capita_Top5 = State_dataset.sort_values(\"Per Capita GSDP (Rs.)\", ascending=False).head(5)\n",
    "\n",
    "GDP_per_capita_Bottom5 = State_dataset.sort_values(\"Per Capita GSDP (Rs.)\", ascending=False).tail(5)"
   ]
  },
  {
   "cell_type": "markdown",
   "metadata": {},
   "source": [
    "# To Find out the Top 5 GDP Per Capita - Plot the Graph"
   ]
  },
  {
   "cell_type": "code",
   "execution_count": null,
   "metadata": {},
   "outputs": [],
   "source": [
    "GDP_per_capita.plot(kind = 'bar', y = \"Per Capita GSDP (Rs.)\", figsize=(12, 5), title = 'States (GDP Per Capita)')\n",
    "GDP_per_capita_Top5.plot(kind = 'bar', y = \"Per Capita GSDP (Rs.)\", title = 'Top 5 States (GDP Per Capita)')\n",
    "GDP_per_capita_Bottom5.plot(kind = 'bar', y = \"Per Capita GSDP (Rs.)\", title = 'Bottom 5 States (GDP Per Capita)')"
   ]
  },
  {
   "cell_type": "markdown",
   "metadata": {},
   "source": [
    "# GDP Ratio of Highest Per Capita to Lowest Per Capita"
   ]
  },
  {
   "cell_type": "code",
   "execution_count": null,
   "metadata": {},
   "outputs": [],
   "source": [
    "GDP_Ratio = GDP_per_capita_Top5.iloc[0][\"Per Capita GSDP (Rs.)\"] / GDP_per_capita_Bottom5.iloc[-1][\"Per Capita GSDP (Rs.)\"]"
   ]
  },
  {
   "cell_type": "code",
   "execution_count": null,
   "metadata": {},
   "outputs": [],
   "source": [
    "GDP_Ratio.round(2)"
   ]
  },
  {
   "cell_type": "markdown",
   "metadata": {},
   "source": [
    "# The GDP Ratio comes to 8% when compared Highest Per Capita to Low Per Capita"
   ]
  },
  {
   "cell_type": "markdown",
   "metadata": {},
   "source": [
    "# Percentage contribution of the primary, secondary and tertiary sectors as a percentage of the total GDP for all the states."
   ]
  },
  {
   "cell_type": "code",
   "execution_count": null,
   "metadata": {},
   "outputs": [],
   "source": [
    "Sector_Contribution = State_dataset[['Primary','Secondary','Tertiary','Gross State Domestic Product']]\n",
    "\n",
    "Sector_Contribution.sort_values('Gross State Domestic Product', ascending=False, inplace = True)"
   ]
  },
  {
   "cell_type": "code",
   "execution_count": null,
   "metadata": {},
   "outputs": [],
   "source": [
    "Sector_Contribution['Primary %'] = round(((Sector_Contribution['Primary']/Sector_Contribution['Gross State Domestic Product'])*100))\n",
    "Sector_Contribution['Secondary %'] = round(((Sector_Contribution['Secondary']/Sector_Contribution['Gross State Domestic Product'])*100))\n",
    "Sector_Contribution['Tertiary %'] = round(((Sector_Contribution['Tertiary']/Sector_Contribution['Gross State Domestic Product'])*100))"
   ]
  },
  {
   "cell_type": "code",
   "execution_count": null,
   "metadata": {
    "scrolled": true
   },
   "outputs": [],
   "source": [
    "Sector_Contribution.loc[:, ['Primary %','Secondary %','Tertiary %']].plot.bar(stacked = True, figsize = (12,3), title = 'Sector Contribution accoss the various States')"
   ]
  },
  {
   "cell_type": "markdown",
   "metadata": {},
   "source": [
    "# Categorizing the states into four groups based on the GDP per capita\n",
    "**The Quantile Values for GDP Per Capita used are as 0.20, 0.50, 0.85 & 1 to categorized the States**"
   ]
  },
  {
   "cell_type": "code",
   "execution_count": null,
   "metadata": {},
   "outputs": [],
   "source": [
    "State_Categorization = State_dataset[\"Per Capita GSDP (Rs.)\"].quantile([0.20, 0.50, 0.85, 1.00])"
   ]
  },
  {
   "cell_type": "code",
   "execution_count": null,
   "metadata": {},
   "outputs": [],
   "source": [
    "State_category = State_dataset[\"Per Capita GSDP (Rs.)\"]\n",
    "State_dataset['Categorization'] = pd.qcut(State_category, q=[0.20, 0.50, 0.85, 1.00], labels=['C3', 'C2','C1'])\n",
    "State_dataset['Categorization'] = State_dataset['Categorization'].cat.add_categories(\"C4\").fillna(\"C4\")"
   ]
  },
  {
   "cell_type": "code",
   "execution_count": null,
   "metadata": {},
   "outputs": [],
   "source": [
    "State_dataset = State_dataset.sort_values('Categorization', ascending=False)\n",
    "Categorized_States = State_dataset.groupby('Categorization')"
   ]
  },
  {
   "cell_type": "markdown",
   "metadata": {},
   "source": [
    "# Preparing the 4 different Categories for the States \n",
    "# They will be mentioned as C1, C2, C3 & C4 based to Quantile Category"
   ]
  },
  {
   "cell_type": "code",
   "execution_count": null,
   "metadata": {},
   "outputs": [],
   "source": [
    "C1_category = Categorized_States.get_group('C1')\n",
    "C2_category = Categorized_States.get_group('C2')\n",
    "C3_category = Categorized_States.get_group('C3')\n",
    "C4_category = Categorized_States.get_group('C4')"
   ]
  },
  {
   "cell_type": "markdown",
   "metadata": {},
   "source": [
    "# Based on Quantile Value, The C1 States are as:"
   ]
  },
  {
   "cell_type": "code",
   "execution_count": null,
   "metadata": {},
   "outputs": [],
   "source": [
    "C1_category = C1_category.drop(['Categorization','Primary','Secondary','Tertiary','Crops','Livestock','Forestry and logging','Fishing and aquaculture','Trade & repair services','Hotels & restaurants','Railways','Road transport','Water transport','Air transport','Services incidental to transport','Storage','Communication & services related to broadcasting','TOTAL GSVA at basic prices','Taxes on Products','Subsidies on products'], axis=1)\n",
    "C1_category = C1_category.drop([\"Population ('00)\"], axis=1)\n",
    "C1_category = C1_category.T"
   ]
  },
  {
   "cell_type": "code",
   "execution_count": null,
   "metadata": {},
   "outputs": [],
   "source": [
    "# Total_Growth_Sector\n",
    "C1_category['Total_Growth_Sector'] = C1_category.sum(axis=1)\n",
    "C1_category.astype('float64') #Update the values as uniform on updated dataframe "
   ]
  },
  {
   "cell_type": "markdown",
   "metadata": {},
   "source": [
    "# Get the % of Growth Sectors towards the GDP of the States Categories"
   ]
  },
  {
   "cell_type": "code",
   "execution_count": null,
   "metadata": {},
   "outputs": [],
   "source": [
    "GSDP_C1 = C1_category.iloc[-2,4] #The GSDP Value for the Category of State\n",
    "C1_category['Growth%'] = (C1_category['Total_Growth_Sector'] / GSDP_C1)*100"
   ]
  },
  {
   "cell_type": "code",
   "execution_count": null,
   "metadata": {},
   "outputs": [],
   "source": [
    "C1_Sub_sector_Growth = C1_category.drop(['Gross State Domestic Product','Per Capita GSDP (Rs.)'], axis=0)\n",
    "C1_Sub_sector_Growth = C1_Sub_sector_Growth.sort_values('Growth%', ascending=False)"
   ]
  },
  {
   "cell_type": "markdown",
   "metadata": {},
   "source": [
    "# Get the Cumulative sum of the Sub Sectors of States which contributes towards the 80% of the GDP."
   ]
  },
  {
   "cell_type": "code",
   "execution_count": null,
   "metadata": {},
   "outputs": [],
   "source": [
    "C1_Sub_sector_Growth['Cumulative'] = C1_Sub_sector_Growth['Growth%'].cumsum()"
   ]
  },
  {
   "cell_type": "markdown",
   "metadata": {},
   "source": [
    "**Based on Quantile Value, we are projecting all the Sub Sectors which contributes towards ~80% of GDP**"
   ]
  },
  {
   "cell_type": "code",
   "execution_count": null,
   "metadata": {},
   "outputs": [],
   "source": [
    "C1_Top_sectors = C1_Sub_sector_Growth[C1_Sub_sector_Growth.Cumulative < 85]\n",
    "C1_Top_sectors"
   ]
  },
  {
   "cell_type": "code",
   "execution_count": null,
   "metadata": {},
   "outputs": [],
   "source": [
    "C1_Sub_sector_Growth.plot.pie(y=\"Growth%\", figsize = (10,10), title = 'Contribution of Sub Sectors as % for C1')\n",
    "C1_Top_sectors.plot(kind = 'bar', y = \"Cumulative\" , figsize = (10,3), title = 'Top Sectors for 80% GDP for C1 States')\n"
   ]
  },
  {
   "cell_type": "markdown",
   "metadata": {},
   "source": [
    "# Based on Quantile Value, The C2 States are as:"
   ]
  },
  {
   "cell_type": "code",
   "execution_count": null,
   "metadata": {},
   "outputs": [],
   "source": [
    "C2_category = C2_category.drop(['Categorization','Primary','Secondary','Tertiary','Crops','Livestock','Forestry and logging','Fishing and aquaculture','Trade & repair services','Hotels & restaurants','Railways','Road transport','Water transport','Air transport','Services incidental to transport','Storage','Communication & services related to broadcasting','TOTAL GSVA at basic prices','Taxes on Products','Subsidies on products'], axis=1)\n",
    "C2_category = C2_category.drop([\"Population ('00)\"], axis=1)\n",
    "C2_category = C2_category.T"
   ]
  },
  {
   "cell_type": "code",
   "execution_count": null,
   "metadata": {},
   "outputs": [],
   "source": [
    "# Total_Growth_Sector\n",
    "C2_category['Total_Growth_Sector'] = C2_category.sum(axis=1)\n",
    "C2_category.astype('float64')"
   ]
  },
  {
   "cell_type": "code",
   "execution_count": null,
   "metadata": {},
   "outputs": [],
   "source": [
    "GSDP_C2 = C2_category.iloc[-2,9]\n",
    "C2_category['Growth%'] = (C2_category['Total_Growth_Sector'] / GSDP_C2)*100"
   ]
  },
  {
   "cell_type": "code",
   "execution_count": null,
   "metadata": {},
   "outputs": [],
   "source": [
    "C2_Sub_sector_Growth = C2_category.drop(['Gross State Domestic Product','Per Capita GSDP (Rs.)'], axis=0)\n",
    "C2_Sub_sector_Growth = C2_Sub_sector_Growth.sort_values('Growth%', ascending=False)\n",
    "C2_Sub_sector_Growth['Cumulative'] = C2_Sub_sector_Growth['Growth%'].cumsum()"
   ]
  },
  {
   "cell_type": "code",
   "execution_count": null,
   "metadata": {},
   "outputs": [],
   "source": [
    "C2_Top_sectors = C2_Sub_sector_Growth[C2_Sub_sector_Growth.Cumulative < 85]\n",
    "C2_Top_sectors"
   ]
  },
  {
   "cell_type": "code",
   "execution_count": null,
   "metadata": {},
   "outputs": [],
   "source": [
    "C2_Top_sectors.plot(kind = 'bar', y = \"Cumulative\", figsize = (10,3), title = 'Top Sectors for 80% GDP for C2 States')\n",
    "C2_Sub_sector_Growth.plot.pie(y=\"Growth%\", figsize = (10,10), title = 'Contribution of Sub Sectors as % for C2 Category')"
   ]
  },
  {
   "cell_type": "markdown",
   "metadata": {},
   "source": [
    "# Based on Quantile Value, The C3 States are as:"
   ]
  },
  {
   "cell_type": "code",
   "execution_count": null,
   "metadata": {},
   "outputs": [],
   "source": [
    "C3_category = C3_category.drop(['Categorization','Primary','Secondary','Tertiary','Crops','Livestock','Forestry and logging','Fishing and aquaculture','Trade & repair services','Hotels & restaurants','Railways','Road transport','Water transport','Air transport','Services incidental to transport','Storage','Communication & services related to broadcasting','TOTAL GSVA at basic prices','Taxes on Products','Subsidies on products'], axis=1)\n",
    "C3_category = C3_category.drop([\"Population ('00)\"], axis=1)\n",
    "C3_category = C3_category.T"
   ]
  },
  {
   "cell_type": "code",
   "execution_count": null,
   "metadata": {},
   "outputs": [],
   "source": [
    "# Total_Growth_Sector\n",
    "C3_category['Total_Growth_Sector'] = C3_category.sum(axis=1)\n",
    "C3_category.astype('float64')"
   ]
  },
  {
   "cell_type": "code",
   "execution_count": null,
   "metadata": {},
   "outputs": [],
   "source": [
    "GSDP_C3 = C3_category.iloc[-2,8]\n",
    "C3_category['Growth%'] = (C3_category['Total_Growth_Sector'] / GSDP_C3)*100"
   ]
  },
  {
   "cell_type": "code",
   "execution_count": null,
   "metadata": {},
   "outputs": [],
   "source": [
    "C3_Sub_sector_Growth = C3_category.drop(['Gross State Domestic Product','Per Capita GSDP (Rs.)'], axis=0)\n",
    "C3_Sub_sector_Growth = C3_Sub_sector_Growth.sort_values('Growth%', ascending=False)\n",
    "C3_Sub_sector_Growth['Cumulative'] = C3_Sub_sector_Growth['Growth%'].cumsum()\n",
    "C3_Top_sectors = C3_Sub_sector_Growth[C3_Sub_sector_Growth.Cumulative < 85]\n",
    "C3_Top_sectors"
   ]
  },
  {
   "cell_type": "code",
   "execution_count": null,
   "metadata": {},
   "outputs": [],
   "source": [
    "C3_Top_sectors.plot(kind = 'bar', y = \"Cumulative\", figsize = (10,3), title = 'Top Sectors for 80% GDP for C3 States')\n",
    "C3_Sub_sector_Growth.plot.pie(y=\"Growth%\", figsize = (10,10), title = 'Contribution of Sub Sectors as % for C3 Category')"
   ]
  },
  {
   "cell_type": "markdown",
   "metadata": {},
   "source": [
    "# Based on Quantile Value, The C4 States are as:"
   ]
  },
  {
   "cell_type": "code",
   "execution_count": null,
   "metadata": {},
   "outputs": [],
   "source": [
    "C4_category = C4_category.drop(['Categorization','Primary','Secondary','Tertiary','Crops','Livestock','Forestry and logging','Fishing and aquaculture','Trade & repair services','Hotels & restaurants','Railways','Road transport','Water transport','Air transport','Services incidental to transport','Storage','Communication & services related to broadcasting','TOTAL GSVA at basic prices','Taxes on Products','Subsidies on products'], axis=1)\n",
    "C4_category = C4_category.drop([\"Population ('00)\"], axis=1)\n",
    "C4_category = C4_category.T"
   ]
  },
  {
   "cell_type": "code",
   "execution_count": null,
   "metadata": {},
   "outputs": [],
   "source": [
    "# Total_Growth_Sector\n",
    "C4_category['Total_Growth_Sector'] = C4_category.sum(axis=1)\n",
    "C4_category.astype('float64')"
   ]
  },
  {
   "cell_type": "code",
   "execution_count": null,
   "metadata": {},
   "outputs": [],
   "source": [
    "GSDP_C4 = C4_category.iloc[-2,6]\n",
    "C4_category['Growth%'] = (C4_category['Total_Growth_Sector'] / GSDP_C4)*100"
   ]
  },
  {
   "cell_type": "code",
   "execution_count": null,
   "metadata": {},
   "outputs": [],
   "source": [
    "C4_Sub_sector_Growth = C4_category.drop(['Gross State Domestic Product','Per Capita GSDP (Rs.)'], axis=0)\n",
    "C4_Sub_sector_Growth = C4_Sub_sector_Growth.sort_values('Growth%', ascending=False)\n",
    "C4_Sub_sector_Growth['Cumulative'] = C4_Sub_sector_Growth['Growth%'].cumsum()\n",
    "C4_Top_sectors = C4_Sub_sector_Growth[C4_Sub_sector_Growth.Cumulative < 85]\n",
    "C4_Top_sectors"
   ]
  },
  {
   "cell_type": "code",
   "execution_count": null,
   "metadata": {},
   "outputs": [],
   "source": [
    "C4_Top_sectors.plot(kind = 'bar', y = \"Growth%\", figsize = (10,3), title = 'Top Sectors for 80% GDP for C4 States')\n",
    "C4_Sub_sector_Growth.plot.pie(y=\"Growth%\", figsize = (10,10), title = 'Contribution of Sub Sectors as % for C4 Category')"
   ]
  },
  {
   "cell_type": "markdown",
   "metadata": {},
   "source": [
    "# GDP and Education Dropout Rates"
   ]
  },
  {
   "cell_type": "markdown",
   "metadata": {},
   "source": [
    "# Get the File again in separate dataframe for Education Dropout Rates for all States"
   ]
  },
  {
   "cell_type": "code",
   "execution_count": null,
   "metadata": {},
   "outputs": [],
   "source": [
    "path_gdp = 'GDP Assignment Files'\n",
    "GDP_Edu_Drop = pd.read_csv('GDP Assignment Files\\State UT-wise Average Annual Drop-Out Rate from 2012-13 to 2014-15.csv')\n",
    "GDP_Edu_Drop.info()"
   ]
  },
  {
   "cell_type": "markdown",
   "metadata": {},
   "source": [
    "# Based on the requirement, the analysis has to be done only for 2014-15 and only for Primary, Upper Primary & Secondary"
   ]
  },
  {
   "cell_type": "code",
   "execution_count": null,
   "metadata": {},
   "outputs": [],
   "source": [
    "# Dropping all those columns which are not rquired in this Analysis\n",
    "GDP_Edu_Drop = GDP_Edu_Drop.drop(['Sl. No.', 'Primary - 2012-2013', 'Primary - 2014-2015.1', 'Upper Primary - 2012-2013', 'Upper Primary - 2013-2014', 'Secondary - 2012-2013', 'Secondary - 2013-2014', 'Senior Secondary - 2012-2013', 'Senior Secondary - 2013-2014', 'Senior Secondary - 2014-2015'], axis=1)"
   ]
  },
  {
   "cell_type": "code",
   "execution_count": null,
   "metadata": {},
   "outputs": [],
   "source": [
    "GDP_Edu_Drop.columns = ['States','Primary','Upper Primary','Secondary'] #Rename the Columns for better readability."
   ]
  },
  {
   "cell_type": "code",
   "execution_count": null,
   "metadata": {},
   "outputs": [],
   "source": [
    "GDP_Edu_Drop.set_index('States',inplace=True) # Set the Index back to States"
   ]
  },
  {
   "cell_type": "markdown",
   "metadata": {},
   "source": [
    "**As we need to merge this data with the existing states GDP data, we need to make sure that the States Names are uniform in both the Dataframe Sets so that the query can merge the two sets. Hence, rename the states naming conventions for some.**"
   ]
  },
  {
   "cell_type": "code",
   "execution_count": null,
   "metadata": {},
   "outputs": [],
   "source": [
    "GDP_Edu_Drop.rename(index= {\"Andhra Pradesh\":\"Andhra_Pradesh\",\n",
    "                    \"Arunachal Pradesh\":\"Arunachal_Pradesh\",\n",
    "                    \"Chhatisgarh\":\"Chhattisgarh\",\n",
    "                    \"Himachal Pradesh\":\"Himachal_Pradesh\",\n",
    "                    \"Madhya Pradesh\":\"Madhya_Pradesh\",\n",
    "                    \"Uttar Pradesh\":\"Uttar_Pradesh\",\n",
    "                    \"Uttrakhand\":\"Uttarakhand\",\n",
    "                    \"Tamil Nadu\":\"Tamil_Nadu\"}, inplace=True)"
   ]
  },
  {
   "cell_type": "markdown",
   "metadata": {},
   "source": [
    "# Let's merge the Two Datasets with the key value as 'States' to prepare the final dataset for this analysis"
   ]
  },
  {
   "cell_type": "code",
   "execution_count": null,
   "metadata": {},
   "outputs": [],
   "source": [
    "GDP_Edu_Drop_Final = pd.merge(GDP_Edu_Drop,State_dataset[\"Per Capita GSDP (Rs.)\"], on='States', how= 'left')"
   ]
  },
  {
   "cell_type": "code",
   "execution_count": null,
   "metadata": {},
   "outputs": [],
   "source": [
    "GDP_Edu_Drop_Final.sort_values(\"Per Capita GSDP (Rs.)\",ascending=False)\n",
    "# NaN values can be removed using below code, however in this analysis, let Python handle the NaN values while Plotting Graphs\n",
    "# GDP_Edu_Drop_Final = GDP_Edu_Drop_Final.dropna(subset=[\"Per Capita GSDP (Rs.)\"]) "
   ]
  },
  {
   "cell_type": "code",
   "execution_count": null,
   "metadata": {},
   "outputs": [],
   "source": [
    "GDP_Edu_Drop_Final"
   ]
  },
  {
   "cell_type": "markdown",
   "metadata": {},
   "source": [
    "# Project the Scatter Plot for Primary Dropout Vs GDP. In the Below Plot it is clearly visible that the lower GDP, the higher the Dropout."
   ]
  },
  {
   "cell_type": "code",
   "execution_count": null,
   "metadata": {},
   "outputs": [],
   "source": [
    "Primary_Plot = GDP_Edu_Drop_Final.plot.scatter(x='Per Capita GSDP (Rs.)',y='Primary', c='Black', title='Primary Dropout vs GDP')"
   ]
  },
  {
   "cell_type": "markdown",
   "metadata": {},
   "source": [
    "# Project the Scatter Plot for Upper Primary Dropout Vs GDP. In the Below Plot it is clearly visible that the lower GDP, the higher the Dropout."
   ]
  },
  {
   "cell_type": "code",
   "execution_count": null,
   "metadata": {},
   "outputs": [],
   "source": [
    "Upper_Primary_Plot = GDP_Edu_Drop_Final.plot.scatter(x='Per Capita GSDP (Rs.)',y='Upper Primary', c='Black', title='Upper Primary Dropout vs GDP')"
   ]
  },
  {
   "cell_type": "markdown",
   "metadata": {},
   "source": [
    "# Project the Scatter Plot for Secondary Dropout Vs GDP. In the Below Plot it is visible to some extend that the lower GDP, the higher the Dropout."
   ]
  },
  {
   "cell_type": "code",
   "execution_count": null,
   "metadata": {},
   "outputs": [],
   "source": [
    "Secondary_Plot = GDP_Edu_Drop_Final.plot.scatter(x='Per Capita GSDP (Rs.)',y='Secondary', c='Black',title='Secondary Dropout vs GDP')"
   ]
  }
 ],
 "metadata": {
  "kernelspec": {
   "display_name": "Python 3",
   "language": "python",
   "name": "python3"
  },
  "language_info": {
   "codemirror_mode": {
    "name": "ipython",
    "version": 3
   },
   "file_extension": ".py",
   "mimetype": "text/x-python",
   "name": "python",
   "nbconvert_exporter": "python",
   "pygments_lexer": "ipython3",
   "version": "3.7.6"
  }
 },
 "nbformat": 4,
 "nbformat_minor": 2
}
